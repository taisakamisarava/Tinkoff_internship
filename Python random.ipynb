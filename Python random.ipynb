{
 "cells": [
  {
   "cell_type": "markdown",
   "id": "41639ea8",
   "metadata": {},
   "source": [
    "## Df preparation"
   ]
  },
  {
   "cell_type": "markdown",
   "id": "50e83ce1",
   "metadata": {},
   "source": [
    "Для выполнения задания потребуется самому сгенерировать данные с помощью модуля random (все пункты выполняются с помощью нее).\n",
    "\n",
    "Что необходимо, для создания будущей таблицы:\n",
    "\n",
    "0) Для генерации данных в random необходимо установить seed = \"АДВИ_2023\", длина каждого списка N = 1000;\n",
    "\n",
    "1) index колонка: создать список из N последовательных целых элементов от 1 до 1000 включительно, далее, с помощью специальной функции random перемешать его;\n",
    "\n",
    "2) groups колонка: создать список из N элементов, состоящий из значений из списка [\"группа_1\", \"группа_2\", \"группа_3\", \"группа_4\", \"группа_5\"], необходимо использовать функцию из random которая возвращает список элементов длины k, выбранных из последовательности population с перестановкой элементов;\n",
    "\n",
    "3) uniform колонка: создать список из N элементов, состоящий из целых значение из равномерного распределения [50, 100] ;\n",
    "\n",
    "4) gauss_1, gauss_2, gauss_3 колонки: Создать 3 списка из N элементов каждый, заполненные значениями из нормальных распределений с параметрами:\n",
    "\n",
    "5) Создать pandas DataFrame, где (1) будет индексом, (2)-(4) колонки, названия колонок [\"groups\", \"uniform\", \"gauss_1\", \"gauss_2\", \"gauss_3\"] соответственно, не забывая проверить, что типы колонок должны соответствовать заявленным типам данных;\n",
    "\n",
    "6) Для колонок gauss_1 и gauss_2 заменить значения на None:\n",
    "\n",
    "Для gauss_1, если индекс у значение делится на 121 без остатка;\n",
    "Для gauss_2, если дробная часть больше 0.95;\n",
    "\n",
    "7) Теперь, для пропущенных значений gauss_1 и gauss_2:\n",
    "\n",
    "Для gauss_2 None заменить на среднее по колонке;\n",
    "Удалить строчки из таблицы, где gauss_1 == None."
   ]
  },
  {
   "cell_type": "code",
   "execution_count": 203,
   "id": "3dbed961",
   "metadata": {},
   "outputs": [],
   "source": [
    "# Zero"
   ]
  },
  {
   "cell_type": "code",
   "execution_count": 204,
   "id": "30e42b73",
   "metadata": {},
   "outputs": [],
   "source": [
    "import random\n",
    "import numpy as np\n",
    "import pandas as pd\n",
    "from pandas.core.arrays.interval import isna"
   ]
  },
  {
   "cell_type": "code",
   "execution_count": 205,
   "id": "5d9d8fbe",
   "metadata": {},
   "outputs": [],
   "source": [
    "random.seed('АДВИ_2023')"
   ]
  },
  {
   "cell_type": "code",
   "execution_count": 206,
   "id": "16381c5f",
   "metadata": {},
   "outputs": [],
   "source": [
    "N = 1000"
   ]
  },
  {
   "cell_type": "code",
   "execution_count": 207,
   "id": "daab7229",
   "metadata": {},
   "outputs": [],
   "source": [
    "# One"
   ]
  },
  {
   "cell_type": "code",
   "execution_count": 208,
   "id": "bb2d0f59",
   "metadata": {},
   "outputs": [],
   "source": [
    "indxs = np.arange(1, N + 1)\n",
    "random.shuffle(indxs)"
   ]
  },
  {
   "cell_type": "code",
   "execution_count": 209,
   "id": "894482b5",
   "metadata": {},
   "outputs": [],
   "source": [
    "# Two"
   ]
  },
  {
   "cell_type": "code",
   "execution_count": 210,
   "id": "700cdec0",
   "metadata": {},
   "outputs": [],
   "source": [
    "group_names = [\"группа_1\", \"группа_2\", \"группа_3\", \"группа_4\", \"группа_5\"]"
   ]
  },
  {
   "cell_type": "code",
   "execution_count": 211,
   "id": "24867ec9",
   "metadata": {},
   "outputs": [],
   "source": [
    "groups = random.choices(group_names, k = 1000)"
   ]
  },
  {
   "cell_type": "code",
   "execution_count": 212,
   "id": "0beff533",
   "metadata": {},
   "outputs": [],
   "source": [
    "# groups"
   ]
  },
  {
   "cell_type": "code",
   "execution_count": 213,
   "id": "7659397a",
   "metadata": {},
   "outputs": [],
   "source": [
    "# Three"
   ]
  },
  {
   "cell_type": "code",
   "execution_count": 214,
   "id": "c1c1acf9",
   "metadata": {},
   "outputs": [],
   "source": [
    "uniform = [random.randint(50, 100) for i in range(1000)]"
   ]
  },
  {
   "cell_type": "code",
   "execution_count": 215,
   "id": "b399148e",
   "metadata": {},
   "outputs": [],
   "source": [
    "# Four"
   ]
  },
  {
   "cell_type": "code",
   "execution_count": 216,
   "id": "efa362ad",
   "metadata": {},
   "outputs": [],
   "source": [
    "gauss_1 = [random.gauss(mu = 0, sigma = 1) for i in range(1000)]"
   ]
  },
  {
   "cell_type": "code",
   "execution_count": 217,
   "id": "874d7a05",
   "metadata": {},
   "outputs": [],
   "source": [
    "gauss_2 = [random.gauss(mu = 0, sigma = 12) for i in range(1000)]"
   ]
  },
  {
   "cell_type": "code",
   "execution_count": 218,
   "id": "c26ae0a2",
   "metadata": {},
   "outputs": [],
   "source": [
    "gauss_3 = [random.gauss(mu = 50, sigma = 9) for i in range(1000)]"
   ]
  },
  {
   "cell_type": "code",
   "execution_count": 219,
   "id": "32ad2db7",
   "metadata": {},
   "outputs": [],
   "source": [
    "# Five"
   ]
  },
  {
   "cell_type": "code",
   "execution_count": 220,
   "id": "408394e4",
   "metadata": {},
   "outputs": [],
   "source": [
    "data = [indxs, groups, uniform, gauss_1, gauss_2, gauss_3]"
   ]
  },
  {
   "cell_type": "code",
   "execution_count": 221,
   "id": "8a10d794",
   "metadata": {},
   "outputs": [],
   "source": [
    "df = pd.DataFrame(data).transpose()"
   ]
  },
  {
   "cell_type": "code",
   "execution_count": 222,
   "id": "2b1b350e",
   "metadata": {},
   "outputs": [
    {
     "data": {
      "text/html": [
       "<div>\n",
       "<style scoped>\n",
       "    .dataframe tbody tr th:only-of-type {\n",
       "        vertical-align: middle;\n",
       "    }\n",
       "\n",
       "    .dataframe tbody tr th {\n",
       "        vertical-align: top;\n",
       "    }\n",
       "\n",
       "    .dataframe thead th {\n",
       "        text-align: right;\n",
       "    }\n",
       "</style>\n",
       "<table border=\"1\" class=\"dataframe\">\n",
       "  <thead>\n",
       "    <tr style=\"text-align: right;\">\n",
       "      <th></th>\n",
       "      <th>0</th>\n",
       "      <th>1</th>\n",
       "      <th>2</th>\n",
       "      <th>3</th>\n",
       "      <th>4</th>\n",
       "      <th>5</th>\n",
       "    </tr>\n",
       "  </thead>\n",
       "  <tbody>\n",
       "    <tr>\n",
       "      <th>0</th>\n",
       "      <td>476</td>\n",
       "      <td>группа_1</td>\n",
       "      <td>95</td>\n",
       "      <td>3.010291</td>\n",
       "      <td>2.156346</td>\n",
       "      <td>57.455851</td>\n",
       "    </tr>\n",
       "    <tr>\n",
       "      <th>1</th>\n",
       "      <td>315</td>\n",
       "      <td>группа_5</td>\n",
       "      <td>77</td>\n",
       "      <td>0.190277</td>\n",
       "      <td>-9.93455</td>\n",
       "      <td>62.694177</td>\n",
       "    </tr>\n",
       "    <tr>\n",
       "      <th>2</th>\n",
       "      <td>490</td>\n",
       "      <td>группа_4</td>\n",
       "      <td>96</td>\n",
       "      <td>-0.282161</td>\n",
       "      <td>9.211071</td>\n",
       "      <td>54.688895</td>\n",
       "    </tr>\n",
       "    <tr>\n",
       "      <th>3</th>\n",
       "      <td>748</td>\n",
       "      <td>группа_3</td>\n",
       "      <td>56</td>\n",
       "      <td>1.12708</td>\n",
       "      <td>-12.391793</td>\n",
       "      <td>30.192353</td>\n",
       "    </tr>\n",
       "    <tr>\n",
       "      <th>4</th>\n",
       "      <td>471</td>\n",
       "      <td>группа_5</td>\n",
       "      <td>52</td>\n",
       "      <td>-1.23827</td>\n",
       "      <td>10.938748</td>\n",
       "      <td>52.682052</td>\n",
       "    </tr>\n",
       "    <tr>\n",
       "      <th>...</th>\n",
       "      <td>...</td>\n",
       "      <td>...</td>\n",
       "      <td>...</td>\n",
       "      <td>...</td>\n",
       "      <td>...</td>\n",
       "      <td>...</td>\n",
       "    </tr>\n",
       "    <tr>\n",
       "      <th>995</th>\n",
       "      <td>260</td>\n",
       "      <td>группа_4</td>\n",
       "      <td>57</td>\n",
       "      <td>-1.484164</td>\n",
       "      <td>-5.911598</td>\n",
       "      <td>49.330196</td>\n",
       "    </tr>\n",
       "    <tr>\n",
       "      <th>996</th>\n",
       "      <td>146</td>\n",
       "      <td>группа_4</td>\n",
       "      <td>78</td>\n",
       "      <td>-0.379041</td>\n",
       "      <td>-3.132954</td>\n",
       "      <td>60.3299</td>\n",
       "    </tr>\n",
       "    <tr>\n",
       "      <th>997</th>\n",
       "      <td>972</td>\n",
       "      <td>группа_1</td>\n",
       "      <td>52</td>\n",
       "      <td>-0.857206</td>\n",
       "      <td>0.835715</td>\n",
       "      <td>51.926114</td>\n",
       "    </tr>\n",
       "    <tr>\n",
       "      <th>998</th>\n",
       "      <td>161</td>\n",
       "      <td>группа_1</td>\n",
       "      <td>62</td>\n",
       "      <td>-0.195475</td>\n",
       "      <td>3.496498</td>\n",
       "      <td>66.31025</td>\n",
       "    </tr>\n",
       "    <tr>\n",
       "      <th>999</th>\n",
       "      <td>587</td>\n",
       "      <td>группа_5</td>\n",
       "      <td>60</td>\n",
       "      <td>0.093496</td>\n",
       "      <td>-9.164475</td>\n",
       "      <td>60.897843</td>\n",
       "    </tr>\n",
       "  </tbody>\n",
       "</table>\n",
       "<p>1000 rows × 6 columns</p>\n",
       "</div>"
      ],
      "text/plain": [
       "       0         1   2         3          4          5\n",
       "0    476  группа_1  95  3.010291   2.156346  57.455851\n",
       "1    315  группа_5  77  0.190277   -9.93455  62.694177\n",
       "2    490  группа_4  96 -0.282161   9.211071  54.688895\n",
       "3    748  группа_3  56   1.12708 -12.391793  30.192353\n",
       "4    471  группа_5  52  -1.23827  10.938748  52.682052\n",
       "..   ...       ...  ..       ...        ...        ...\n",
       "995  260  группа_4  57 -1.484164  -5.911598  49.330196\n",
       "996  146  группа_4  78 -0.379041  -3.132954    60.3299\n",
       "997  972  группа_1  52 -0.857206   0.835715  51.926114\n",
       "998  161  группа_1  62 -0.195475   3.496498   66.31025\n",
       "999  587  группа_5  60  0.093496  -9.164475  60.897843\n",
       "\n",
       "[1000 rows x 6 columns]"
      ]
     },
     "execution_count": 222,
     "metadata": {},
     "output_type": "execute_result"
    }
   ],
   "source": [
    "df"
   ]
  },
  {
   "cell_type": "code",
   "execution_count": 223,
   "id": "81a8f4de",
   "metadata": {},
   "outputs": [],
   "source": [
    "df.rename(columns = {0: \"indxs\", 1: \"groups\", 2: 'uniform', 3: 'gauss_1', 4: 'gauss_2', 5: 'gauss_3'}, inplace = True)"
   ]
  },
  {
   "cell_type": "code",
   "execution_count": 224,
   "id": "353ecf20",
   "metadata": {},
   "outputs": [],
   "source": [
    "df.set_index('indxs', inplace = True)"
   ]
  },
  {
   "cell_type": "code",
   "execution_count": 225,
   "id": "499ab3da",
   "metadata": {},
   "outputs": [
    {
     "data": {
      "text/plain": [
       "groups     object\n",
       "uniform    object\n",
       "gauss_1    object\n",
       "gauss_2    object\n",
       "gauss_3    object\n",
       "dtype: object"
      ]
     },
     "execution_count": 225,
     "metadata": {},
     "output_type": "execute_result"
    }
   ],
   "source": [
    "df.dtypes"
   ]
  },
  {
   "cell_type": "code",
   "execution_count": 226,
   "id": "1f37ae2a",
   "metadata": {},
   "outputs": [],
   "source": [
    "df = df.astype({'uniform': 'int32', 'gauss_1' : 'float', 'gauss_2' : 'float', 'gauss_3': 'float'})"
   ]
  },
  {
   "cell_type": "code",
   "execution_count": 227,
   "id": "586ce3af",
   "metadata": {},
   "outputs": [
    {
     "data": {
      "text/html": [
       "<div>\n",
       "<style scoped>\n",
       "    .dataframe tbody tr th:only-of-type {\n",
       "        vertical-align: middle;\n",
       "    }\n",
       "\n",
       "    .dataframe tbody tr th {\n",
       "        vertical-align: top;\n",
       "    }\n",
       "\n",
       "    .dataframe thead th {\n",
       "        text-align: right;\n",
       "    }\n",
       "</style>\n",
       "<table border=\"1\" class=\"dataframe\">\n",
       "  <thead>\n",
       "    <tr style=\"text-align: right;\">\n",
       "      <th></th>\n",
       "      <th>groups</th>\n",
       "      <th>uniform</th>\n",
       "      <th>gauss_1</th>\n",
       "      <th>gauss_2</th>\n",
       "      <th>gauss_3</th>\n",
       "    </tr>\n",
       "    <tr>\n",
       "      <th>indxs</th>\n",
       "      <th></th>\n",
       "      <th></th>\n",
       "      <th></th>\n",
       "      <th></th>\n",
       "      <th></th>\n",
       "    </tr>\n",
       "  </thead>\n",
       "  <tbody>\n",
       "    <tr>\n",
       "      <th>476</th>\n",
       "      <td>группа_1</td>\n",
       "      <td>95</td>\n",
       "      <td>3.010291</td>\n",
       "      <td>2.156346</td>\n",
       "      <td>57.455851</td>\n",
       "    </tr>\n",
       "    <tr>\n",
       "      <th>315</th>\n",
       "      <td>группа_5</td>\n",
       "      <td>77</td>\n",
       "      <td>0.190277</td>\n",
       "      <td>-9.934550</td>\n",
       "      <td>62.694177</td>\n",
       "    </tr>\n",
       "    <tr>\n",
       "      <th>490</th>\n",
       "      <td>группа_4</td>\n",
       "      <td>96</td>\n",
       "      <td>-0.282161</td>\n",
       "      <td>9.211071</td>\n",
       "      <td>54.688895</td>\n",
       "    </tr>\n",
       "    <tr>\n",
       "      <th>748</th>\n",
       "      <td>группа_3</td>\n",
       "      <td>56</td>\n",
       "      <td>1.127080</td>\n",
       "      <td>-12.391793</td>\n",
       "      <td>30.192353</td>\n",
       "    </tr>\n",
       "    <tr>\n",
       "      <th>471</th>\n",
       "      <td>группа_5</td>\n",
       "      <td>52</td>\n",
       "      <td>-1.238270</td>\n",
       "      <td>10.938748</td>\n",
       "      <td>52.682052</td>\n",
       "    </tr>\n",
       "    <tr>\n",
       "      <th>...</th>\n",
       "      <td>...</td>\n",
       "      <td>...</td>\n",
       "      <td>...</td>\n",
       "      <td>...</td>\n",
       "      <td>...</td>\n",
       "    </tr>\n",
       "    <tr>\n",
       "      <th>260</th>\n",
       "      <td>группа_4</td>\n",
       "      <td>57</td>\n",
       "      <td>-1.484164</td>\n",
       "      <td>-5.911598</td>\n",
       "      <td>49.330196</td>\n",
       "    </tr>\n",
       "    <tr>\n",
       "      <th>146</th>\n",
       "      <td>группа_4</td>\n",
       "      <td>78</td>\n",
       "      <td>-0.379041</td>\n",
       "      <td>-3.132954</td>\n",
       "      <td>60.329900</td>\n",
       "    </tr>\n",
       "    <tr>\n",
       "      <th>972</th>\n",
       "      <td>группа_1</td>\n",
       "      <td>52</td>\n",
       "      <td>-0.857206</td>\n",
       "      <td>0.835715</td>\n",
       "      <td>51.926114</td>\n",
       "    </tr>\n",
       "    <tr>\n",
       "      <th>161</th>\n",
       "      <td>группа_1</td>\n",
       "      <td>62</td>\n",
       "      <td>-0.195475</td>\n",
       "      <td>3.496498</td>\n",
       "      <td>66.310250</td>\n",
       "    </tr>\n",
       "    <tr>\n",
       "      <th>587</th>\n",
       "      <td>группа_5</td>\n",
       "      <td>60</td>\n",
       "      <td>0.093496</td>\n",
       "      <td>-9.164475</td>\n",
       "      <td>60.897843</td>\n",
       "    </tr>\n",
       "  </tbody>\n",
       "</table>\n",
       "<p>1000 rows × 5 columns</p>\n",
       "</div>"
      ],
      "text/plain": [
       "         groups  uniform   gauss_1    gauss_2    gauss_3\n",
       "indxs                                                   \n",
       "476    группа_1       95  3.010291   2.156346  57.455851\n",
       "315    группа_5       77  0.190277  -9.934550  62.694177\n",
       "490    группа_4       96 -0.282161   9.211071  54.688895\n",
       "748    группа_3       56  1.127080 -12.391793  30.192353\n",
       "471    группа_5       52 -1.238270  10.938748  52.682052\n",
       "...         ...      ...       ...        ...        ...\n",
       "260    группа_4       57 -1.484164  -5.911598  49.330196\n",
       "146    группа_4       78 -0.379041  -3.132954  60.329900\n",
       "972    группа_1       52 -0.857206   0.835715  51.926114\n",
       "161    группа_1       62 -0.195475   3.496498  66.310250\n",
       "587    группа_5       60  0.093496  -9.164475  60.897843\n",
       "\n",
       "[1000 rows x 5 columns]"
      ]
     },
     "execution_count": 227,
     "metadata": {},
     "output_type": "execute_result"
    }
   ],
   "source": [
    "df"
   ]
  },
  {
   "cell_type": "code",
   "execution_count": 228,
   "id": "3985d129",
   "metadata": {},
   "outputs": [],
   "source": [
    "# six"
   ]
  },
  {
   "cell_type": "code",
   "execution_count": 229,
   "id": "461d3054",
   "metadata": {},
   "outputs": [],
   "source": [
    "df.loc[df.index % 121 == 0, 'gauss_1'] = None"
   ]
  },
  {
   "cell_type": "code",
   "execution_count": 230,
   "id": "2e311790",
   "metadata": {},
   "outputs": [],
   "source": [
    "# не факт что правильно\n",
    "\n",
    "df.loc[np.modf(df['gauss_2'])[0] > 0.95, 'gauss_2'] = None"
   ]
  },
  {
   "cell_type": "code",
   "execution_count": 231,
   "id": "de892e4b",
   "metadata": {},
   "outputs": [],
   "source": [
    "# seven"
   ]
  },
  {
   "cell_type": "code",
   "execution_count": 232,
   "id": "30b56a2c",
   "metadata": {},
   "outputs": [],
   "source": [
    "df['gauss_2'].fillna(df['gauss_2'].mean(), inplace = True)"
   ]
  },
  {
   "cell_type": "code",
   "execution_count": 233,
   "id": "cdae2d1f",
   "metadata": {},
   "outputs": [],
   "source": [
    "df.dropna(subset = ['gauss_1'], inplace = True)"
   ]
  },
  {
   "cell_type": "code",
   "execution_count": 234,
   "id": "13192009",
   "metadata": {},
   "outputs": [
    {
     "data": {
      "text/html": [
       "<div>\n",
       "<style scoped>\n",
       "    .dataframe tbody tr th:only-of-type {\n",
       "        vertical-align: middle;\n",
       "    }\n",
       "\n",
       "    .dataframe tbody tr th {\n",
       "        vertical-align: top;\n",
       "    }\n",
       "\n",
       "    .dataframe thead th {\n",
       "        text-align: right;\n",
       "    }\n",
       "</style>\n",
       "<table border=\"1\" class=\"dataframe\">\n",
       "  <thead>\n",
       "    <tr style=\"text-align: right;\">\n",
       "      <th></th>\n",
       "      <th>groups</th>\n",
       "      <th>uniform</th>\n",
       "      <th>gauss_1</th>\n",
       "      <th>gauss_2</th>\n",
       "      <th>gauss_3</th>\n",
       "    </tr>\n",
       "    <tr>\n",
       "      <th>indxs</th>\n",
       "      <th></th>\n",
       "      <th></th>\n",
       "      <th></th>\n",
       "      <th></th>\n",
       "      <th></th>\n",
       "    </tr>\n",
       "  </thead>\n",
       "  <tbody>\n",
       "    <tr>\n",
       "      <th>476</th>\n",
       "      <td>группа_1</td>\n",
       "      <td>95</td>\n",
       "      <td>3.010291</td>\n",
       "      <td>2.156346</td>\n",
       "      <td>57.455851</td>\n",
       "    </tr>\n",
       "    <tr>\n",
       "      <th>315</th>\n",
       "      <td>группа_5</td>\n",
       "      <td>77</td>\n",
       "      <td>0.190277</td>\n",
       "      <td>-9.934550</td>\n",
       "      <td>62.694177</td>\n",
       "    </tr>\n",
       "    <tr>\n",
       "      <th>490</th>\n",
       "      <td>группа_4</td>\n",
       "      <td>96</td>\n",
       "      <td>-0.282161</td>\n",
       "      <td>9.211071</td>\n",
       "      <td>54.688895</td>\n",
       "    </tr>\n",
       "    <tr>\n",
       "      <th>748</th>\n",
       "      <td>группа_3</td>\n",
       "      <td>56</td>\n",
       "      <td>1.127080</td>\n",
       "      <td>-12.391793</td>\n",
       "      <td>30.192353</td>\n",
       "    </tr>\n",
       "    <tr>\n",
       "      <th>471</th>\n",
       "      <td>группа_5</td>\n",
       "      <td>52</td>\n",
       "      <td>-1.238270</td>\n",
       "      <td>10.938748</td>\n",
       "      <td>52.682052</td>\n",
       "    </tr>\n",
       "    <tr>\n",
       "      <th>...</th>\n",
       "      <td>...</td>\n",
       "      <td>...</td>\n",
       "      <td>...</td>\n",
       "      <td>...</td>\n",
       "      <td>...</td>\n",
       "    </tr>\n",
       "    <tr>\n",
       "      <th>260</th>\n",
       "      <td>группа_4</td>\n",
       "      <td>57</td>\n",
       "      <td>-1.484164</td>\n",
       "      <td>-5.911598</td>\n",
       "      <td>49.330196</td>\n",
       "    </tr>\n",
       "    <tr>\n",
       "      <th>146</th>\n",
       "      <td>группа_4</td>\n",
       "      <td>78</td>\n",
       "      <td>-0.379041</td>\n",
       "      <td>-3.132954</td>\n",
       "      <td>60.329900</td>\n",
       "    </tr>\n",
       "    <tr>\n",
       "      <th>972</th>\n",
       "      <td>группа_1</td>\n",
       "      <td>52</td>\n",
       "      <td>-0.857206</td>\n",
       "      <td>0.835715</td>\n",
       "      <td>51.926114</td>\n",
       "    </tr>\n",
       "    <tr>\n",
       "      <th>161</th>\n",
       "      <td>группа_1</td>\n",
       "      <td>62</td>\n",
       "      <td>-0.195475</td>\n",
       "      <td>3.496498</td>\n",
       "      <td>66.310250</td>\n",
       "    </tr>\n",
       "    <tr>\n",
       "      <th>587</th>\n",
       "      <td>группа_5</td>\n",
       "      <td>60</td>\n",
       "      <td>0.093496</td>\n",
       "      <td>-9.164475</td>\n",
       "      <td>60.897843</td>\n",
       "    </tr>\n",
       "  </tbody>\n",
       "</table>\n",
       "<p>992 rows × 5 columns</p>\n",
       "</div>"
      ],
      "text/plain": [
       "         groups  uniform   gauss_1    gauss_2    gauss_3\n",
       "indxs                                                   \n",
       "476    группа_1       95  3.010291   2.156346  57.455851\n",
       "315    группа_5       77  0.190277  -9.934550  62.694177\n",
       "490    группа_4       96 -0.282161   9.211071  54.688895\n",
       "748    группа_3       56  1.127080 -12.391793  30.192353\n",
       "471    группа_5       52 -1.238270  10.938748  52.682052\n",
       "...         ...      ...       ...        ...        ...\n",
       "260    группа_4       57 -1.484164  -5.911598  49.330196\n",
       "146    группа_4       78 -0.379041  -3.132954  60.329900\n",
       "972    группа_1       52 -0.857206   0.835715  51.926114\n",
       "161    группа_1       62 -0.195475   3.496498  66.310250\n",
       "587    группа_5       60  0.093496  -9.164475  60.897843\n",
       "\n",
       "[992 rows x 5 columns]"
      ]
     },
     "execution_count": 234,
     "metadata": {},
     "output_type": "execute_result"
    }
   ],
   "source": [
    "# 8\n",
    "df"
   ]
  },
  {
   "cell_type": "markdown",
   "id": "ffa435c8",
   "metadata": {},
   "source": [
    "Ура! Получилось !!!!"
   ]
  },
  {
   "cell_type": "markdown",
   "id": "8c9274d6",
   "metadata": {},
   "source": [
    "## Tasks"
   ]
  },
  {
   "cell_type": "markdown",
   "id": "065d2cbd",
   "metadata": {},
   "source": [
    "1 задание\n",
    "\n",
    "Сколько всего получилось записей в таблице после выполнения всех пунктов из условия?"
   ]
  },
  {
   "cell_type": "code",
   "execution_count": 238,
   "id": "75040fc4",
   "metadata": {},
   "outputs": [
    {
     "data": {
      "text/html": [
       "<div>\n",
       "<style scoped>\n",
       "    .dataframe tbody tr th:only-of-type {\n",
       "        vertical-align: middle;\n",
       "    }\n",
       "\n",
       "    .dataframe tbody tr th {\n",
       "        vertical-align: top;\n",
       "    }\n",
       "\n",
       "    .dataframe thead th {\n",
       "        text-align: right;\n",
       "    }\n",
       "</style>\n",
       "<table border=\"1\" class=\"dataframe\">\n",
       "  <thead>\n",
       "    <tr style=\"text-align: right;\">\n",
       "      <th></th>\n",
       "      <th>uniform</th>\n",
       "      <th>gauss_1</th>\n",
       "      <th>gauss_2</th>\n",
       "      <th>gauss_3</th>\n",
       "    </tr>\n",
       "  </thead>\n",
       "  <tbody>\n",
       "    <tr>\n",
       "      <th>count</th>\n",
       "      <td>992.000000</td>\n",
       "      <td>992.000000</td>\n",
       "      <td>992.000000</td>\n",
       "      <td>992.000000</td>\n",
       "    </tr>\n",
       "    <tr>\n",
       "      <th>mean</th>\n",
       "      <td>74.876008</td>\n",
       "      <td>-0.039448</td>\n",
       "      <td>-0.473799</td>\n",
       "      <td>49.444662</td>\n",
       "    </tr>\n",
       "    <tr>\n",
       "      <th>std</th>\n",
       "      <td>14.395724</td>\n",
       "      <td>1.052419</td>\n",
       "      <td>12.069964</td>\n",
       "      <td>9.021853</td>\n",
       "    </tr>\n",
       "    <tr>\n",
       "      <th>min</th>\n",
       "      <td>50.000000</td>\n",
       "      <td>-3.933254</td>\n",
       "      <td>-40.394911</td>\n",
       "      <td>19.682732</td>\n",
       "    </tr>\n",
       "    <tr>\n",
       "      <th>25%</th>\n",
       "      <td>62.000000</td>\n",
       "      <td>-0.745181</td>\n",
       "      <td>-8.334432</td>\n",
       "      <td>43.492984</td>\n",
       "    </tr>\n",
       "    <tr>\n",
       "      <th>50%</th>\n",
       "      <td>75.000000</td>\n",
       "      <td>-0.004941</td>\n",
       "      <td>-0.434114</td>\n",
       "      <td>49.654875</td>\n",
       "    </tr>\n",
       "    <tr>\n",
       "      <th>75%</th>\n",
       "      <td>88.000000</td>\n",
       "      <td>0.634956</td>\n",
       "      <td>7.139698</td>\n",
       "      <td>55.627863</td>\n",
       "    </tr>\n",
       "    <tr>\n",
       "      <th>max</th>\n",
       "      <td>100.000000</td>\n",
       "      <td>3.040902</td>\n",
       "      <td>34.218271</td>\n",
       "      <td>78.079961</td>\n",
       "    </tr>\n",
       "  </tbody>\n",
       "</table>\n",
       "</div>"
      ],
      "text/plain": [
       "          uniform     gauss_1     gauss_2     gauss_3\n",
       "count  992.000000  992.000000  992.000000  992.000000\n",
       "mean    74.876008   -0.039448   -0.473799   49.444662\n",
       "std     14.395724    1.052419   12.069964    9.021853\n",
       "min     50.000000   -3.933254  -40.394911   19.682732\n",
       "25%     62.000000   -0.745181   -8.334432   43.492984\n",
       "50%     75.000000   -0.004941   -0.434114   49.654875\n",
       "75%     88.000000    0.634956    7.139698   55.627863\n",
       "max    100.000000    3.040902   34.218271   78.079961"
      ]
     },
     "execution_count": 238,
     "metadata": {},
     "output_type": "execute_result"
    }
   ],
   "source": [
    "df.describe()"
   ]
  },
  {
   "cell_type": "markdown",
   "id": "542cd18c",
   "metadata": {},
   "source": [
    "2 задание\n",
    "\n",
    "Для колонки gauss_2 посчитать среднее и среднеквадратическое отклонение."
   ]
  },
  {
   "cell_type": "code",
   "execution_count": 236,
   "id": "28d749fb",
   "metadata": {},
   "outputs": [
    {
     "data": {
      "text/plain": [
       "count    992.000000\n",
       "mean      -0.473799\n",
       "std       12.069964\n",
       "min      -40.394911\n",
       "25%       -8.334432\n",
       "50%       -0.434114\n",
       "75%        7.139698\n",
       "max       34.218271\n",
       "Name: gauss_2, dtype: float64"
      ]
     },
     "execution_count": 236,
     "metadata": {},
     "output_type": "execute_result"
    }
   ],
   "source": [
    "df['gauss_2'].describe()"
   ]
  },
  {
   "cell_type": "markdown",
   "id": "53c5b590",
   "metadata": {},
   "source": [
    "3 задание\n",
    "\n",
    "Какая группа встречается чаще всего и сколько раз?"
   ]
  },
  {
   "cell_type": "code",
   "execution_count": 239,
   "id": "73fa5396",
   "metadata": {},
   "outputs": [
    {
     "data": {
      "text/plain": [
       "группа_4    222\n",
       "группа_1    215\n",
       "группа_2    194\n",
       "группа_3    184\n",
       "группа_5    177\n",
       "Name: groups, dtype: int64"
      ]
     },
     "execution_count": 239,
     "metadata": {},
     "output_type": "execute_result"
    }
   ],
   "source": [
    "df['groups'].value_counts()"
   ]
  },
  {
   "cell_type": "markdown",
   "id": "ac4f7540",
   "metadata": {},
   "source": [
    "4 задание\n",
    "\n",
    "Для группа_5 вывести самый \"ранний\" (наименьший) индекс."
   ]
  },
  {
   "cell_type": "code",
   "execution_count": 242,
   "id": "ec3a6f3f",
   "metadata": {},
   "outputs": [
    {
     "data": {
      "text/plain": [
       "6"
      ]
     },
     "execution_count": 242,
     "metadata": {},
     "output_type": "execute_result"
    }
   ],
   "source": [
    "df[df['groups'] == 'группа_5'].index.min()"
   ]
  },
  {
   "cell_type": "markdown",
   "id": "61124455",
   "metadata": {},
   "source": [
    "5 задание\n",
    "\n",
    "Сколько записей из колонки uniform имеют значение не ниже значения 90% перцентиля?"
   ]
  },
  {
   "cell_type": "code",
   "execution_count": 243,
   "id": "1aeb6014",
   "metadata": {},
   "outputs": [
    {
     "data": {
      "text/plain": [
       "94.0"
      ]
     },
     "execution_count": 243,
     "metadata": {},
     "output_type": "execute_result"
    }
   ],
   "source": [
    "np.percentile(df.uniform, 90)"
   ]
  },
  {
   "cell_type": "markdown",
   "id": "71092c0a",
   "metadata": {},
   "source": [
    "6 задание\n",
    "\n",
    "У какой группы наибольшее значение медианы для gauss_3?"
   ]
  },
  {
   "cell_type": "code",
   "execution_count": 250,
   "id": "22e384e3",
   "metadata": {},
   "outputs": [
    {
     "data": {
      "text/html": [
       "<div>\n",
       "<style scoped>\n",
       "    .dataframe tbody tr th:only-of-type {\n",
       "        vertical-align: middle;\n",
       "    }\n",
       "\n",
       "    .dataframe tbody tr th {\n",
       "        vertical-align: top;\n",
       "    }\n",
       "\n",
       "    .dataframe thead th {\n",
       "        text-align: right;\n",
       "    }\n",
       "</style>\n",
       "<table border=\"1\" class=\"dataframe\">\n",
       "  <thead>\n",
       "    <tr style=\"text-align: right;\">\n",
       "      <th></th>\n",
       "      <th>uniform</th>\n",
       "      <th>gauss_1</th>\n",
       "      <th>gauss_2</th>\n",
       "      <th>gauss_3</th>\n",
       "    </tr>\n",
       "    <tr>\n",
       "      <th>groups</th>\n",
       "      <th></th>\n",
       "      <th></th>\n",
       "      <th></th>\n",
       "      <th></th>\n",
       "    </tr>\n",
       "  </thead>\n",
       "  <tbody>\n",
       "    <tr>\n",
       "      <th>группа_1</th>\n",
       "      <td>77.0</td>\n",
       "      <td>0.060626</td>\n",
       "      <td>-0.627803</td>\n",
       "      <td>49.876708</td>\n",
       "    </tr>\n",
       "    <tr>\n",
       "      <th>группа_2</th>\n",
       "      <td>75.5</td>\n",
       "      <td>-0.057600</td>\n",
       "      <td>-0.473472</td>\n",
       "      <td>49.990529</td>\n",
       "    </tr>\n",
       "    <tr>\n",
       "      <th>группа_3</th>\n",
       "      <td>77.0</td>\n",
       "      <td>0.055329</td>\n",
       "      <td>-0.369613</td>\n",
       "      <td>49.459261</td>\n",
       "    </tr>\n",
       "    <tr>\n",
       "      <th>группа_4</th>\n",
       "      <td>74.0</td>\n",
       "      <td>-0.079226</td>\n",
       "      <td>-0.434114</td>\n",
       "      <td>49.069511</td>\n",
       "    </tr>\n",
       "    <tr>\n",
       "      <th>группа_5</th>\n",
       "      <td>74.0</td>\n",
       "      <td>0.065264</td>\n",
       "      <td>-1.145277</td>\n",
       "      <td>49.936910</td>\n",
       "    </tr>\n",
       "  </tbody>\n",
       "</table>\n",
       "</div>"
      ],
      "text/plain": [
       "          uniform   gauss_1   gauss_2    gauss_3\n",
       "groups                                          \n",
       "группа_1     77.0  0.060626 -0.627803  49.876708\n",
       "группа_2     75.5 -0.057600 -0.473472  49.990529\n",
       "группа_3     77.0  0.055329 -0.369613  49.459261\n",
       "группа_4     74.0 -0.079226 -0.434114  49.069511\n",
       "группа_5     74.0  0.065264 -1.145277  49.936910"
      ]
     },
     "execution_count": 250,
     "metadata": {},
     "output_type": "execute_result"
    }
   ],
   "source": [
    "df.groupby('groups').agg('median')"
   ]
  },
  {
   "cell_type": "code",
   "execution_count": null,
   "id": "1abb7341",
   "metadata": {},
   "outputs": [],
   "source": [
    "7 задание\n",
    "\n",
    "У какой группы наибольшее минимальное значение uniform?\n",
    "Если такого нет, выбрать группу наибольшим минимальным значением в gauss_1."
   ]
  },
  {
   "cell_type": "code",
   "execution_count": 260,
   "id": "b5fa0cb8",
   "metadata": {},
   "outputs": [
    {
     "data": {
      "text/html": [
       "<div>\n",
       "<style scoped>\n",
       "    .dataframe tbody tr th:only-of-type {\n",
       "        vertical-align: middle;\n",
       "    }\n",
       "\n",
       "    .dataframe tbody tr th {\n",
       "        vertical-align: top;\n",
       "    }\n",
       "\n",
       "    .dataframe thead th {\n",
       "        text-align: right;\n",
       "    }\n",
       "</style>\n",
       "<table border=\"1\" class=\"dataframe\">\n",
       "  <thead>\n",
       "    <tr style=\"text-align: right;\">\n",
       "      <th></th>\n",
       "      <th>uniform</th>\n",
       "      <th>gauss_1</th>\n",
       "      <th>gauss_2</th>\n",
       "      <th>gauss_3</th>\n",
       "    </tr>\n",
       "    <tr>\n",
       "      <th>groups</th>\n",
       "      <th></th>\n",
       "      <th></th>\n",
       "      <th></th>\n",
       "      <th></th>\n",
       "    </tr>\n",
       "  </thead>\n",
       "  <tbody>\n",
       "    <tr>\n",
       "      <th>группа_1</th>\n",
       "      <td>50</td>\n",
       "      <td>-3.628448</td>\n",
       "      <td>-22.109394</td>\n",
       "      <td>21.111701</td>\n",
       "    </tr>\n",
       "    <tr>\n",
       "      <th>группа_2</th>\n",
       "      <td>50</td>\n",
       "      <td>-2.692705</td>\n",
       "      <td>-38.365537</td>\n",
       "      <td>26.063885</td>\n",
       "    </tr>\n",
       "    <tr>\n",
       "      <th>группа_3</th>\n",
       "      <td>50</td>\n",
       "      <td>-2.606773</td>\n",
       "      <td>-36.187520</td>\n",
       "      <td>27.741795</td>\n",
       "    </tr>\n",
       "    <tr>\n",
       "      <th>группа_4</th>\n",
       "      <td>50</td>\n",
       "      <td>-3.933254</td>\n",
       "      <td>-29.901064</td>\n",
       "      <td>19.682732</td>\n",
       "    </tr>\n",
       "    <tr>\n",
       "      <th>группа_5</th>\n",
       "      <td>50</td>\n",
       "      <td>-2.639733</td>\n",
       "      <td>-40.394911</td>\n",
       "      <td>29.945906</td>\n",
       "    </tr>\n",
       "  </tbody>\n",
       "</table>\n",
       "</div>"
      ],
      "text/plain": [
       "          uniform   gauss_1    gauss_2    gauss_3\n",
       "groups                                           \n",
       "группа_1       50 -3.628448 -22.109394  21.111701\n",
       "группа_2       50 -2.692705 -38.365537  26.063885\n",
       "группа_3       50 -2.606773 -36.187520  27.741795\n",
       "группа_4       50 -3.933254 -29.901064  19.682732\n",
       "группа_5       50 -2.639733 -40.394911  29.945906"
      ]
     },
     "execution_count": 260,
     "metadata": {},
     "output_type": "execute_result"
    }
   ],
   "source": [
    "df.groupby('groups').agg('min')"
   ]
  },
  {
   "cell_type": "code",
   "execution_count": 258,
   "id": "781b6627",
   "metadata": {},
   "outputs": [
    {
     "data": {
      "text/plain": [
       "-2.61"
      ]
     },
     "execution_count": 258,
     "metadata": {},
     "output_type": "execute_result"
    }
   ],
   "source": [
    "round(-2.606773, 2)"
   ]
  },
  {
   "cell_type": "code",
   "execution_count": 261,
   "id": "b16a7a71",
   "metadata": {},
   "outputs": [
    {
     "data": {
      "text/plain": [
       "-36.19"
      ]
     },
     "execution_count": 261,
     "metadata": {},
     "output_type": "execute_result"
    }
   ],
   "source": [
    "round(-36.187520, 2)"
   ]
  },
  {
   "cell_type": "code",
   "execution_count": null,
   "id": "7334596e",
   "metadata": {},
   "outputs": [],
   "source": []
  },
  {
   "cell_type": "markdown",
   "id": "522e9391",
   "metadata": {},
   "source": [
    "8 задание\n",
    "\n",
    "Создать новую колонку gauss где значения будут получаться из (gauss_1 + gauss_2) / gauss_3\n",
    "\n",
    "Чему будет равен 70% перцентиль (результат округлить до сотых, для дробной части использовать точку, как разделитель)?"
   ]
  },
  {
   "cell_type": "code",
   "execution_count": 262,
   "id": "94552f3f",
   "metadata": {},
   "outputs": [],
   "source": [
    "df['gauss'] = (df['gauss_1'] + df['gauss_2']) / df['gauss_3']"
   ]
  },
  {
   "cell_type": "code",
   "execution_count": 263,
   "id": "9bc8a7e4",
   "metadata": {},
   "outputs": [
    {
     "data": {
      "text/html": [
       "<div>\n",
       "<style scoped>\n",
       "    .dataframe tbody tr th:only-of-type {\n",
       "        vertical-align: middle;\n",
       "    }\n",
       "\n",
       "    .dataframe tbody tr th {\n",
       "        vertical-align: top;\n",
       "    }\n",
       "\n",
       "    .dataframe thead th {\n",
       "        text-align: right;\n",
       "    }\n",
       "</style>\n",
       "<table border=\"1\" class=\"dataframe\">\n",
       "  <thead>\n",
       "    <tr style=\"text-align: right;\">\n",
       "      <th></th>\n",
       "      <th>groups</th>\n",
       "      <th>uniform</th>\n",
       "      <th>gauss_1</th>\n",
       "      <th>gauss_2</th>\n",
       "      <th>gauss_3</th>\n",
       "      <th>gauss</th>\n",
       "    </tr>\n",
       "    <tr>\n",
       "      <th>indxs</th>\n",
       "      <th></th>\n",
       "      <th></th>\n",
       "      <th></th>\n",
       "      <th></th>\n",
       "      <th></th>\n",
       "      <th></th>\n",
       "    </tr>\n",
       "  </thead>\n",
       "  <tbody>\n",
       "    <tr>\n",
       "      <th>476</th>\n",
       "      <td>группа_1</td>\n",
       "      <td>95</td>\n",
       "      <td>3.010291</td>\n",
       "      <td>2.156346</td>\n",
       "      <td>57.455851</td>\n",
       "      <td>0.089924</td>\n",
       "    </tr>\n",
       "    <tr>\n",
       "      <th>315</th>\n",
       "      <td>группа_5</td>\n",
       "      <td>77</td>\n",
       "      <td>0.190277</td>\n",
       "      <td>-9.934550</td>\n",
       "      <td>62.694177</td>\n",
       "      <td>-0.155425</td>\n",
       "    </tr>\n",
       "    <tr>\n",
       "      <th>490</th>\n",
       "      <td>группа_4</td>\n",
       "      <td>96</td>\n",
       "      <td>-0.282161</td>\n",
       "      <td>9.211071</td>\n",
       "      <td>54.688895</td>\n",
       "      <td>0.163267</td>\n",
       "    </tr>\n",
       "    <tr>\n",
       "      <th>748</th>\n",
       "      <td>группа_3</td>\n",
       "      <td>56</td>\n",
       "      <td>1.127080</td>\n",
       "      <td>-12.391793</td>\n",
       "      <td>30.192353</td>\n",
       "      <td>-0.373098</td>\n",
       "    </tr>\n",
       "    <tr>\n",
       "      <th>471</th>\n",
       "      <td>группа_5</td>\n",
       "      <td>52</td>\n",
       "      <td>-1.238270</td>\n",
       "      <td>10.938748</td>\n",
       "      <td>52.682052</td>\n",
       "      <td>0.184133</td>\n",
       "    </tr>\n",
       "    <tr>\n",
       "      <th>...</th>\n",
       "      <td>...</td>\n",
       "      <td>...</td>\n",
       "      <td>...</td>\n",
       "      <td>...</td>\n",
       "      <td>...</td>\n",
       "      <td>...</td>\n",
       "    </tr>\n",
       "    <tr>\n",
       "      <th>260</th>\n",
       "      <td>группа_4</td>\n",
       "      <td>57</td>\n",
       "      <td>-1.484164</td>\n",
       "      <td>-5.911598</td>\n",
       "      <td>49.330196</td>\n",
       "      <td>-0.149924</td>\n",
       "    </tr>\n",
       "    <tr>\n",
       "      <th>146</th>\n",
       "      <td>группа_4</td>\n",
       "      <td>78</td>\n",
       "      <td>-0.379041</td>\n",
       "      <td>-3.132954</td>\n",
       "      <td>60.329900</td>\n",
       "      <td>-0.058213</td>\n",
       "    </tr>\n",
       "    <tr>\n",
       "      <th>972</th>\n",
       "      <td>группа_1</td>\n",
       "      <td>52</td>\n",
       "      <td>-0.857206</td>\n",
       "      <td>0.835715</td>\n",
       "      <td>51.926114</td>\n",
       "      <td>-0.000414</td>\n",
       "    </tr>\n",
       "    <tr>\n",
       "      <th>161</th>\n",
       "      <td>группа_1</td>\n",
       "      <td>62</td>\n",
       "      <td>-0.195475</td>\n",
       "      <td>3.496498</td>\n",
       "      <td>66.310250</td>\n",
       "      <td>0.049781</td>\n",
       "    </tr>\n",
       "    <tr>\n",
       "      <th>587</th>\n",
       "      <td>группа_5</td>\n",
       "      <td>60</td>\n",
       "      <td>0.093496</td>\n",
       "      <td>-9.164475</td>\n",
       "      <td>60.897843</td>\n",
       "      <td>-0.148954</td>\n",
       "    </tr>\n",
       "  </tbody>\n",
       "</table>\n",
       "<p>992 rows × 6 columns</p>\n",
       "</div>"
      ],
      "text/plain": [
       "         groups  uniform   gauss_1    gauss_2    gauss_3     gauss\n",
       "indxs                                                             \n",
       "476    группа_1       95  3.010291   2.156346  57.455851  0.089924\n",
       "315    группа_5       77  0.190277  -9.934550  62.694177 -0.155425\n",
       "490    группа_4       96 -0.282161   9.211071  54.688895  0.163267\n",
       "748    группа_3       56  1.127080 -12.391793  30.192353 -0.373098\n",
       "471    группа_5       52 -1.238270  10.938748  52.682052  0.184133\n",
       "...         ...      ...       ...        ...        ...       ...\n",
       "260    группа_4       57 -1.484164  -5.911598  49.330196 -0.149924\n",
       "146    группа_4       78 -0.379041  -3.132954  60.329900 -0.058213\n",
       "972    группа_1       52 -0.857206   0.835715  51.926114 -0.000414\n",
       "161    группа_1       62 -0.195475   3.496498  66.310250  0.049781\n",
       "587    группа_5       60  0.093496  -9.164475  60.897843 -0.148954\n",
       "\n",
       "[992 rows x 6 columns]"
      ]
     },
     "execution_count": 263,
     "metadata": {},
     "output_type": "execute_result"
    }
   ],
   "source": [
    "df"
   ]
  },
  {
   "cell_type": "code",
   "execution_count": 264,
   "id": "2908e44d",
   "metadata": {},
   "outputs": [
    {
     "data": {
      "text/plain": [
       "0.10641825158661447"
      ]
     },
     "execution_count": 264,
     "metadata": {},
     "output_type": "execute_result"
    }
   ],
   "source": [
    "np.percentile(df.gauss, 70)"
   ]
  },
  {
   "cell_type": "code",
   "execution_count": 265,
   "id": "6e630c1d",
   "metadata": {},
   "outputs": [
    {
     "data": {
      "text/plain": [
       "0.11"
      ]
     },
     "execution_count": 265,
     "metadata": {},
     "output_type": "execute_result"
    }
   ],
   "source": [
    "round(0.10641825158661447, 2)"
   ]
  },
  {
   "cell_type": "code",
   "execution_count": null,
   "id": "502733fa",
   "metadata": {},
   "outputs": [],
   "source": []
  }
 ],
 "metadata": {
  "kernelspec": {
   "display_name": "Python 3 (ipykernel)",
   "language": "python",
   "name": "python3"
  },
  "language_info": {
   "codemirror_mode": {
    "name": "ipython",
    "version": 3
   },
   "file_extension": ".py",
   "mimetype": "text/x-python",
   "name": "python",
   "nbconvert_exporter": "python",
   "pygments_lexer": "ipython3",
   "version": "3.7.6"
  }
 },
 "nbformat": 4,
 "nbformat_minor": 5
}
